{
 "cells": [
  {
   "cell_type": "markdown",
   "metadata": {},
   "source": [
    "[pyeasyga 0.3.1](https://github.com/remiomosowon/pyeasyga/tree/develop/examples)"
   ]
  },
  {
   "cell_type": "markdown",
   "metadata": {},
   "source": [
    "### 一維背包問題"
   ]
  },
  {
   "cell_type": "code",
   "execution_count": 1,
   "metadata": {},
   "outputs": [
    {
     "name": "stdout",
     "output_type": "stream",
     "text": [
      "(15, [0, 1, 1, 1, 1])\n"
     ]
    }
   ],
   "source": [
    "from pyeasyga import pyeasyga\n",
    "\n",
    "# setup data\n",
    "data = [{'name': 'box1', 'value': 4, 'weight': 12},\n",
    "        {'name': 'box2', 'value': 2, 'weight': 1},\n",
    "        {'name': 'box3', 'value': 10, 'weight': 4},\n",
    "        {'name': 'box4', 'value': 1, 'weight': 1},\n",
    "        {'name': 'box5', 'value': 2, 'weight': 2}]\n",
    "\n",
    "ga = pyeasyga.GeneticAlgorithm(data)        # initialise the GA with data\n",
    "\n",
    "# define a fitness function\n",
    "def fitness(individual, data):\n",
    "    values, weights = 0, 0\n",
    "    for selected, box in zip(individual, data):\n",
    "        if selected:\n",
    "            values += box.get('value')\n",
    "            weights += box.get('weight')\n",
    "    if weights > 15:\n",
    "        values = 0\n",
    "    return values\n",
    "\n",
    "ga.fitness_function = fitness               # set the GA's fitness function\n",
    "ga.run()                                    # run the GA\n",
    "print(ga.best_individual())                  # print the GA's best solution"
   ]
  },
  {
   "cell_type": "markdown",
   "metadata": {},
   "source": [
    "### 多維背包問題"
   ]
  },
  {
   "cell_type": "code",
   "execution_count": 2,
   "metadata": {},
   "outputs": [
    {
     "name": "stdout",
     "output_type": "stream",
     "text": [
      "(3516, [0, 1, 1, 1, 0, 0, 0, 0, 1, 1, 0, 1, 1, 1, 0, 1, 1, 1, 0, 0, 0, 1, 1, 0, 1, 0, 0, 1])\n"
     ]
    }
   ],
   "source": [
    "from pyeasyga import pyeasyga\n",
    "\n",
    "# setup data\n",
    "data = [(821, 0.8, 118), (1144, 1, 322), (634, 0.7, 166), (701, 0.9, 195),\n",
    "        (291, 0.9, 100), (1702, 0.8, 142), (1633, 0.7, 100), (1086, 0.6, 145),\n",
    "        (124, 0.6, 100), (718, 0.9, 208), (976, 0.6, 100), (1438, 0.7, 312),\n",
    "        (910, 1, 198), (148, 0.7, 171), (1636, 0.9, 117), (237, 0.6, 100),\n",
    "        (771, 0.9, 329), (604, 0.6, 391), (1078, 0.6, 100), (640, 0.8, 120),\n",
    "        (1510, 1, 188), (741, 0.6, 271), (1358, 0.9, 334), (1682, 0.7, 153),\n",
    "        (993, 0.7, 130), (99, 0.7, 100), (1068, 0.8, 154), (1669, 1, 289)]\n",
    "\n",
    "ga = pyeasyga.GeneticAlgorithm(data)        # initialise the GA with data\n",
    "ga.population_size = 200                    # increase population size to 200 (default value is 50)\n",
    "\n",
    "# define a fitness function\n",
    "def fitness(individual, data):\n",
    "    weight, volume, price = 0, 0, 0\n",
    "    for (selected, item) in zip(individual, data):\n",
    "        if selected:\n",
    "            weight += item[0]\n",
    "            volume += item[1]\n",
    "            price += item[2]\n",
    "    if weight > 12210 or volume > 12:\n",
    "        price = 0\n",
    "    return price\n",
    "\n",
    "ga.fitness_function = fitness               # set the GA's fitness function\n",
    "ga.run()                                    # run the GA\n",
    "print(ga.best_individual())                  # print the GA's best solution"
   ]
  },
  {
   "cell_type": "markdown",
   "metadata": {},
   "source": [
    "### 八皇后問題"
   ]
  },
  {
   "cell_type": "code",
   "execution_count": 3,
   "metadata": {},
   "outputs": [
    {
     "name": "stdout",
     "output_type": "stream",
     "text": [
      "(0, [0, 5, 7, 2, 6, 3, 1, 4])\n",
      "\n",
      "------------------------\n",
      "|X |  |  |  |  |  |  |  |\n",
      "\n",
      "------------------------\n",
      "|  |  |  |  |  |X |  |  |\n",
      "\n",
      "------------------------\n",
      "|  |  |  |  |  |  |  |X |\n",
      "\n",
      "------------------------\n",
      "|  |  |X |  |  |  |  |  |\n",
      "\n",
      "------------------------\n",
      "|  |  |  |  |  |  |X |  |\n",
      "\n",
      "------------------------\n",
      "|  |  |  |X |  |  |  |  |\n",
      "\n",
      "------------------------\n",
      "|  |X |  |  |  |  |  |  |\n",
      "\n",
      "------------------------\n",
      "|  |  |  |  |X |  |  |  |\n",
      "\n",
      "------------------------\n",
      "\n"
     ]
    }
   ],
   "source": [
    "import random\n",
    "from pyeasyga import pyeasyga\n",
    "\n",
    "# setup seed data\n",
    "seed_data = [0, 1, 2, 3, 4, 5, 6, 7]\n",
    "\n",
    "# initialise the GA\n",
    "ga = pyeasyga.GeneticAlgorithm(seed_data,\n",
    "                            population_size=200,\n",
    "                            generations=100,\n",
    "                            crossover_probability=0.8,\n",
    "                            mutation_probability=0.2,\n",
    "                            elitism=True,\n",
    "                            maximise_fitness=False)\n",
    "\n",
    "# define and set function to create a candidate solution representation\n",
    "def create_individual(data):\n",
    "    individual = data[:]\n",
    "    random.shuffle(individual)\n",
    "    return individual\n",
    "\n",
    "ga.create_individual = create_individual\n",
    "\n",
    "# define and set the GA's crossover operation\n",
    "def crossover(parent_1, parent_2):\n",
    "    crossover_index = random.randrange(1, len(parent_1))\n",
    "    child_1a = parent_1[:crossover_index]\n",
    "    child_1b = [i for i in parent_2 if i not in child_1a]\n",
    "    child_1 = child_1a + child_1b\n",
    "\n",
    "    child_2a = parent_2[crossover_index:]\n",
    "    child_2b = [i for i in parent_1 if i not in child_2a]\n",
    "    child_2 = child_2a + child_2b\n",
    "\n",
    "    return child_1, child_2\n",
    "\n",
    "ga.crossover_function = crossover\n",
    "\n",
    "# define and set the GA's mutation operation\n",
    "def mutate(individual):\n",
    "    mutate_index1 = random.randrange(len(individual))\n",
    "    mutate_index2 = random.randrange(len(individual))\n",
    "    individual[mutate_index1], individual[mutate_index2] = individual[mutate_index2], individual[mutate_index1]\n",
    "\n",
    "ga.mutate_function = mutate\n",
    "\n",
    "# define and set the GA's selection operation\n",
    "def selection(population):\n",
    "    return random.choice(population)\n",
    "\n",
    "ga.selection_function = selection\n",
    "\n",
    "# define a fitness function\n",
    "def fitness (individual, data):\n",
    "    collisions = 0\n",
    "    for item in individual:\n",
    "        item_index = individual.index(item)\n",
    "        for elem in individual:\n",
    "            elem_index = individual.index(elem)\n",
    "            if item_index != elem_index:\n",
    "                if item - (elem_index - item_index) == elem \\\n",
    "                    or (elem_index - item_index) + item == elem:\n",
    "                    collisions += 1\n",
    "    return collisions\n",
    "\n",
    "ga.fitness_function = fitness       # set the GA's fitness function\n",
    "ga.run()                            # run the GA\n",
    "\n",
    "# function to print out chess board with queens placed in position\n",
    "def print_board(board_representation):\n",
    "    def print_x_in_row(row_length, x_position):\n",
    "        print('',)\n",
    "        for _ in range(row_length):\n",
    "            print('---',end=\"\")\n",
    "        print('\\n|',end=\"\")\n",
    "        for i in range(row_length):\n",
    "            if i == x_position:\n",
    "                print('{} |'.format('X'),end=\"\")\n",
    "            else:\n",
    "                print('  |',end=\"\")\n",
    "        print('')\n",
    "\n",
    "    def print_board_bottom(row_length):\n",
    "        print('',)\n",
    "        for _ in range(row_length):\n",
    "            print('---',end=\"\")\n",
    "\n",
    "    num_of_rows = len(board_representation)\n",
    "    row_length = num_of_rows    #rows == columns in a chessboard\n",
    "\n",
    "    for row in range(num_of_rows):\n",
    "        print_x_in_row(row_length, board_representation[row])\n",
    "\n",
    "    print_board_bottom(row_length)\n",
    "    print('\\n')\n",
    "\n",
    "# print the GA's best solution; a solution is valid only if there are no collisions\n",
    "if ga.best_individual()[0] == 0:\n",
    "    print(ga.best_individual())\n",
    "    print_board(ga.best_individual()[1])\n",
    "else:\n",
    "    print(None)"
   ]
  },
  {
   "cell_type": "code",
   "execution_count": null,
   "metadata": {
    "collapsed": true
   },
   "outputs": [],
   "source": []
  }
 ],
 "metadata": {
  "kernelspec": {
   "display_name": "Python 3",
   "language": "python",
   "name": "python3"
  },
  "language_info": {
   "codemirror_mode": {
    "name": "ipython",
    "version": 3
   },
   "file_extension": ".py",
   "mimetype": "text/x-python",
   "name": "python",
   "nbconvert_exporter": "python",
   "pygments_lexer": "ipython3",
   "version": "3.6.3"
  }
 },
 "nbformat": 4,
 "nbformat_minor": 2
}
