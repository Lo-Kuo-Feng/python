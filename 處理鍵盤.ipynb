{
 "cells": [
  {
   "cell_type": "markdown",
   "metadata": {},
   "source": [
    "[Handling the keyboard](https://pythonhosted.org/pynput/keyboard.html)"
   ]
  },
  {
   "cell_type": "code",
   "execution_count": 1,
   "metadata": {
    "collapsed": true
   },
   "outputs": [],
   "source": [
    "# !pip install pynput"
   ]
  },
  {
   "cell_type": "code",
   "execution_count": null,
   "metadata": {
    "scrolled": false
   },
   "outputs": [
    {
     "name": "stdout",
     "output_type": "stream",
     "text": [
      "Key.enter release\n",
      "Key.shift_r release\n",
      "'P' pressed\n",
      "'P' release\n",
      "'Y' pressed\n",
      "'Y' release\n",
      "'T' pressed\n",
      "'T' release\n",
      "'H' pressed\n",
      "'H' release\n",
      "'O' pressed\n",
      "'O' release\n",
      "'N' pressed\n",
      "'N' release\n"
     ]
    }
   ],
   "source": [
    "from pynput.keyboard import Key, Listener\n",
    "\n",
    "def on_press(key):\n",
    "    print('{0} pressed'.format(\n",
    "        key))\n",
    "\n",
    "def on_release(key):\n",
    "    print('{0} release'.format(\n",
    "        key))\n",
    "    if key == Key.esc:\n",
    "        # Stop listener\n",
    "        return False\n",
    "\n",
    "# Collect events until released\n",
    "with Listener(\n",
    "        on_press=on_press,\n",
    "        on_release=on_release) as listener:\n",
    "    listener.join()"
   ]
  }
 ],
 "metadata": {
  "kernelspec": {
   "display_name": "Python 3",
   "language": "python",
   "name": "python3"
  },
  "language_info": {
   "codemirror_mode": {
    "name": "ipython",
    "version": 3
   },
   "file_extension": ".py",
   "mimetype": "text/x-python",
   "name": "python",
   "nbconvert_exporter": "python",
   "pygments_lexer": "ipython3",
   "version": "3.6.3"
  }
 },
 "nbformat": 4,
 "nbformat_minor": 2
}
