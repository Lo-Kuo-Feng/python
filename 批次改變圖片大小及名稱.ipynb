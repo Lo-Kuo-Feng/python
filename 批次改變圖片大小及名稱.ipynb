{
 "cells": [
  {
   "cell_type": "markdown",
   "metadata": {},
   "source": [
    "### 改變圖片大小"
   ]
  },
  {
   "cell_type": "code",
   "execution_count": 1,
   "metadata": {},
   "outputs": [],
   "source": [
    "def PIL_resize(\n",
    "        source_path: '圖片路徑' = \"test.jpg\",\n",
    "        save_path: '儲存圖片路徑' = \"test.jpg\",\n",
    "        change_size: \"調整大小\" = (320, 480)\n",
    "        ) -> \"None\":\n",
    "    \n",
    "    \"\"\"利用PIL調整圖片大小的函數\"\"\"\n",
    "    \n",
    "    from PIL import Image\n",
    "    img = Image.open(source_path)\n",
    "    img = img.resize(change_size)\n",
    "    img.save(save_path)"
   ]
  },
  {
   "cell_type": "code",
   "execution_count": 2,
   "metadata": {},
   "outputs": [
    {
     "data": {
      "text/plain": [
       "'利用PIL調整圖片大小的函數'"
      ]
     },
     "execution_count": 2,
     "metadata": {},
     "output_type": "execute_result"
    }
   ],
   "source": [
    "PIL_resize.__doc__"
   ]
  },
  {
   "cell_type": "code",
   "execution_count": 3,
   "metadata": {},
   "outputs": [
    {
     "data": {
      "text/plain": [
       "{'change_size': '調整大小',\n",
       " 'return': 'None',\n",
       " 'save_path': '儲存圖片路徑',\n",
       " 'source_path': '圖片路徑'}"
      ]
     },
     "execution_count": 3,
     "metadata": {},
     "output_type": "execute_result"
    }
   ],
   "source": [
    "PIL_resize.__annotations__"
   ]
  },
  {
   "cell_type": "code",
   "execution_count": 4,
   "metadata": {
    "collapsed": true
   },
   "outputs": [],
   "source": [
    "PIL_resize(\"test.jpg\", \"test.jpg\", (1920, 1080))"
   ]
  },
  {
   "cell_type": "code",
   "execution_count": 5,
   "metadata": {},
   "outputs": [],
   "source": [
    "def cv2_resize(\n",
    "        source_path: '圖片路徑' = \"test.jpg\",\n",
    "        save_path: '儲存圖片路徑' = \"test.jpg\",\n",
    "        change_size: \"調整大小\" = (320, 480)\n",
    "        ) -> \"None\":\n",
    "    \n",
    "    \"\"\"利用cv2調整圖片大小的函數\"\"\"\n",
    "    \n",
    "    import cv2\n",
    "    img = cv2.imread(source_path)\n",
    "    img_new = cv2.resize(img, change_size, interpolation = cv2.INTER_CUBIC)\n",
    "    cv2.imwrite('cv2_Lenna.jpg', img_new)"
   ]
  },
  {
   "cell_type": "code",
   "execution_count": 6,
   "metadata": {
    "scrolled": true
   },
   "outputs": [
    {
     "data": {
      "text/plain": [
       "'利用cv2調整圖片大小的函數'"
      ]
     },
     "execution_count": 6,
     "metadata": {},
     "output_type": "execute_result"
    }
   ],
   "source": [
    "cv2_resize.__doc__"
   ]
  },
  {
   "cell_type": "code",
   "execution_count": 7,
   "metadata": {},
   "outputs": [
    {
     "data": {
      "text/plain": [
       "{'change_size': '調整大小',\n",
       " 'return': 'None',\n",
       " 'save_path': '儲存圖片路徑',\n",
       " 'source_path': '圖片路徑'}"
      ]
     },
     "execution_count": 7,
     "metadata": {},
     "output_type": "execute_result"
    }
   ],
   "source": [
    "cv2_resize.__annotations__"
   ]
  },
  {
   "cell_type": "code",
   "execution_count": 8,
   "metadata": {
    "collapsed": true
   },
   "outputs": [],
   "source": [
    "cv2_resize(\"test.jpg\", \"test.jpg\", (1920, 1080))"
   ]
  },
  {
   "cell_type": "markdown",
   "metadata": {},
   "source": [
    "### 批次修改圖片大小及名稱"
   ]
  },
  {
   "cell_type": "code",
   "execution_count": 9,
   "metadata": {
    "collapsed": true
   },
   "outputs": [],
   "source": [
    "def batch_modify_image_size(\n",
    "        file_path: \"圖片資料夾\" = r\"C:\\Users\\user\\Desktop\\test\",\n",
    "        save_path: \"儲存改變後的圖片資料夾\" = r\"C:\\Users\\user\\Desktop\\test\",\n",
    "        extension: \"圖片檔案格式\" = \"jpg\", \n",
    "        chextension: \"改變的圖片檔案格式\" = \"jpg\",\n",
    "        master: \"檔案名稱\" = \"Untitled_\",\n",
    "        change_size: \"調整大小\" = (320, 480)\n",
    "        ) -> \"None\": \n",
    "    \n",
    "    \"\"\"批次改變圖片大小及名稱\"\"\"\n",
    "    \n",
    "    import os\n",
    "    original_path = os.getcwd()\n",
    "    os.chdir(file_path)\n",
    "    data_list = os.listdir()\n",
    "    index = 0\n",
    "    for i in data_list:\n",
    "        if i.endswith(extension):\n",
    "            if master == None:\n",
    "                PIL_resize(i, i, change_size)\n",
    "            else:\n",
    "                PIL_resize(i, save_path+\"\\\\\"+\".\".join([master+str(index), chextension]), change_size)\n",
    "            index += 1\n",
    "    os.chdir(original_path)"
   ]
  },
  {
   "cell_type": "code",
   "execution_count": 10,
   "metadata": {},
   "outputs": [
    {
     "data": {
      "text/plain": [
       "'批次改變圖片大小及名稱'"
      ]
     },
     "execution_count": 10,
     "metadata": {},
     "output_type": "execute_result"
    }
   ],
   "source": [
    "batch_modify_image_size.__doc__"
   ]
  },
  {
   "cell_type": "code",
   "execution_count": 11,
   "metadata": {},
   "outputs": [
    {
     "data": {
      "text/plain": [
       "{'change_size': '調整大小',\n",
       " 'chextension': '改變的圖片檔案格式',\n",
       " 'extension': '圖片檔案格式',\n",
       " 'file_path': '圖片資料夾',\n",
       " 'master': '檔案名稱',\n",
       " 'return': 'None',\n",
       " 'save_path': '儲存改變後的圖片資料夾'}"
      ]
     },
     "execution_count": 11,
     "metadata": {},
     "output_type": "execute_result"
    }
   ],
   "source": [
    "batch_modify_image_size.__annotations__"
   ]
  },
  {
   "cell_type": "code",
   "execution_count": 12,
   "metadata": {},
   "outputs": [],
   "source": [
    "batch_modify_image_size(\n",
    "        file_path=r\"C:\\Users\\user\\Desktop\\test\",\n",
    "        save_path=r\"C:\\Users\\user\\Desktop\\test1\",\n",
    "        extension=\"jpg\", \n",
    "        chextension=\"jpg\",\n",
    "        master=\"Rex_\",\n",
    "        change_size=(224, 224)\n",
    "        )"
   ]
  },
  {
   "cell_type": "code",
   "execution_count": null,
   "metadata": {
    "collapsed": true
   },
   "outputs": [],
   "source": []
  }
 ],
 "metadata": {
  "kernelspec": {
   "display_name": "Python 3",
   "language": "python",
   "name": "python3"
  },
  "language_info": {
   "codemirror_mode": {
    "name": "ipython",
    "version": 3
   },
   "file_extension": ".py",
   "mimetype": "text/x-python",
   "name": "python",
   "nbconvert_exporter": "python",
   "pygments_lexer": "ipython3",
   "version": "3.6.3"
  }
 },
 "nbformat": 4,
 "nbformat_minor": 2
}
