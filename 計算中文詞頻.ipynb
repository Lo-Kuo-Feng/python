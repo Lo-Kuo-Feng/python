{
 "cells": [
  {
   "cell_type": "code",
   "execution_count": 1,
   "metadata": {
    "collapsed": true
   },
   "outputs": [],
   "source": [
    "lyrics = '''\n",
    "\n",
    "寒流來了 剛好 \n",
    "剛好可以 把你手放外套 \n",
    "把安全帽戴好 \n",
    "不讓你在 愛情路上跌倒 \n",
    "\n",
    "加速狂飆 你說不要 \n",
    "愛的險你不想冒 \n",
    "不想被套牢 \n",
    "他的懷抱 真比我好？ \n",
    "你幸福就好 \n",
    "\n",
    "不愛我就拉倒 \n",
    "離開之前 \n",
    "不要愛的抱抱 \n",
    "反正 我又不是沒有人要 \n",
    "哥練的胸肌 \n",
    "如果你還想靠 \n",
    "好膽你就麥造 \n",
    "\n",
    "寒流來了 剛好可以 把你手放外套 \n",
    "把安全帽戴好 不要在愛情路上跌倒 \n",
    "加速狂飆 你 你說不要 \n",
    "愛的險你不想冒 不想被我給套牢 \n",
    "反正我又不是沒有人要 \n",
    "哥練的胸肌如果你還想靠 \n",
    "算了 你幸福你幸福就好 \n",
    "\n",
    "寒流來了 剛好 \n",
    "剛好可以 把你手放外套 \n",
    "把安全帽戴好 \n",
    "不讓你在 愛情路上跌倒 \n",
    "\n",
    "加速狂飆 你說不要 \n",
    "愛的險你不想冒 \n",
    "不想被套牢 \n",
    "他的懷抱 真比我好？ \n",
    "你幸福就好 \n",
    "\n",
    "不愛我就拉倒 \n",
    "離開之前 \n",
    "不要愛的抱抱 \n",
    "反正 我又不是沒有人要 \n",
    "哥練的胸肌 \n",
    "如果你還想靠 \n",
    "好膽你就麥造 \n",
    "\n",
    "你幸福就好 \n",
    "\n",
    "不愛我就拉倒 \n",
    "離開之前 \n",
    "不要愛的抱抱 \n",
    "反正 我又不是沒有人要 \n",
    "哥練的胸肌 \n",
    "如果你還想靠 \n",
    "好膽你就麥造\n",
    "'''"
   ]
  },
  {
   "cell_type": "code",
   "execution_count": 2,
   "metadata": {},
   "outputs": [
    {
     "name": "stderr",
     "output_type": "stream",
     "text": [
      "Building prefix dict from the default dictionary ...\n",
      "Loading model from cache C:\\Users\\user\\AppData\\Local\\Temp\\jieba.cache\n",
      "Loading model cost 0.909 seconds.\n",
      "Prefix dict has been built succesfully.\n"
     ]
    },
    {
     "data": {
      "text/plain": [
       "[('不要', 7),\n",
       " ('不想', 6),\n",
       " ('剛好', 5),\n",
       " ('幸福', 5),\n",
       " ('反正', 4),\n",
       " ('不是', 4),\n",
       " ('有人', 4),\n",
       " ('哥練', 4),\n",
       " ('胸肌', 4),\n",
       " ('如果', 4)]"
      ]
     },
     "execution_count": 2,
     "metadata": {},
     "output_type": "execute_result"
    }
   ],
   "source": [
    "import jieba\n",
    "from collections import Counter\n",
    "c = Counter([ w for w in jieba.cut(lyrics) if len(w) >= 2])  # 字數2以上\n",
    "c.most_common(10)  # 出現頻率前10名"
   ]
  },
  {
   "cell_type": "code",
   "execution_count": 3,
   "metadata": {},
   "outputs": [
    {
     "data": {
      "text/plain": [
       "Counter({'不想': 6,\n",
       "         '不愛我': 3,\n",
       "         '不是': 4,\n",
       "         '不要': 7,\n",
       "         '之前': 3,\n",
       "         '剛好': 5,\n",
       "         '加速': 3,\n",
       "         '反正': 4,\n",
       "         '可以': 3,\n",
       "         '哥練': 4,\n",
       "         '外套': 3,\n",
       "         '套牢': 3,\n",
       "         '好膽': 3,\n",
       "         '如果': 4,\n",
       "         '安全帽': 3,\n",
       "         '寒流': 3,\n",
       "         '幸福': 5,\n",
       "         '愛情': 3,\n",
       "         '愛的': 3,\n",
       "         '愛的險': 3,\n",
       "         '懷抱': 2,\n",
       "         '我給': 1,\n",
       "         '戴好': 3,\n",
       "         '手放': 3,\n",
       "         '抱抱': 3,\n",
       "         '拉倒': 3,\n",
       "         '有人': 4,\n",
       "         '狂飆': 3,\n",
       "         '真比': 2,\n",
       "         '算了': 1,\n",
       "         '胸肌': 4,\n",
       "         '跌倒': 3,\n",
       "         '路上': 3,\n",
       "         '還想': 4,\n",
       "         '離開': 3,\n",
       "         '麥造': 3})"
      ]
     },
     "execution_count": 3,
     "metadata": {},
     "output_type": "execute_result"
    }
   ],
   "source": [
    "c"
   ]
  },
  {
   "cell_type": "code",
   "execution_count": null,
   "metadata": {
    "collapsed": true
   },
   "outputs": [],
   "source": []
  }
 ],
 "metadata": {
  "kernelspec": {
   "display_name": "Python 3",
   "language": "python",
   "name": "python3"
  },
  "language_info": {
   "codemirror_mode": {
    "name": "ipython",
    "version": 3
   },
   "file_extension": ".py",
   "mimetype": "text/x-python",
   "name": "python",
   "nbconvert_exporter": "python",
   "pygments_lexer": "ipython3",
   "version": "3.6.3"
  }
 },
 "nbformat": 4,
 "nbformat_minor": 2
}
