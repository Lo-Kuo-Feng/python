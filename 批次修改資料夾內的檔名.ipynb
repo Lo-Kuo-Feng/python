{
 "cells": [
  {
   "cell_type": "code",
   "execution_count": 1,
   "metadata": {},
   "outputs": [],
   "source": [
    "import os\n",
    "def rename_data(path=os.getcwd(), master=\"\", extension=\"jpg\", chextension=\"jpg\"):\n",
    "    data_path = path\n",
    "    original_path = os.getcwd()\n",
    "    os.chdir(data_path)\n",
    "    data_list = os.listdir()\n",
    "    index = 0\n",
    "    for i in data_list:\n",
    "        if i.endswith(extension):\n",
    "            os.rename(i, \".\".join([\"Untitled_\"+str(index), chextension]))\n",
    "            index += 1\n",
    "    data_list = os.listdir()       \n",
    "    index = 0\n",
    "    for i in data_list:\n",
    "        if i.startswith(\"Untitled_\") and i.endswith(extension):\n",
    "            os.rename(i, \".\".join([master+str(index), chextension]))\n",
    "            index += 1\n",
    "    os.chdir(original_path)"
   ]
  },
  {
   "cell_type": "code",
   "execution_count": 2,
   "metadata": {},
   "outputs": [],
   "source": [
    "rename_data(path=r\"C:\\Users\\user\\Desktop\\p\", master=\"data_\", extension=\"jpg\", chextension=\"jpg\")"
   ]
  }
 ],
 "metadata": {
  "kernelspec": {
   "display_name": "Python 3",
   "language": "python",
   "name": "python3"
  },
  "language_info": {
   "codemirror_mode": {
    "name": "ipython",
    "version": 3
   },
   "file_extension": ".py",
   "mimetype": "text/x-python",
   "name": "python",
   "nbconvert_exporter": "python",
   "pygments_lexer": "ipython3",
   "version": "3.6.3"
  }
 },
 "nbformat": 4,
 "nbformat_minor": 2
}
