{
 "cells": [
  {
   "cell_type": "code",
   "execution_count": 1,
   "metadata": {
    "collapsed": true
   },
   "outputs": [],
   "source": [
    "from pyzbar import pyzbar\n",
    "import numpy as np\n",
    "import cv2\n",
    "import webbrowser\n",
    "import time"
   ]
  },
  {
   "cell_type": "code",
   "execution_count": null,
   "metadata": {
    "collapsed": true
   },
   "outputs": [],
   "source": [
    "cv2.namedWindow(\"Scanning QR Code\", cv2.WINDOW_NORMAL)\n",
    "cap = cv2.VideoCapture(0)\n",
    "\n",
    "t = 3 #多少秒從新讀取一次\n",
    "time_start=time.time()\n",
    "\n",
    "while(cap.isOpened()):\n",
    "    ret, frame = cap.read()\n",
    "    frame = cv2.flip(frame,1,dst=None)\n",
    "    decodedObjects = pyzbar.decode(frame)\n",
    "    for obj in decodedObjects:\n",
    "        ip = obj.data\n",
    "        time_end=time.time()\n",
    "        if time_end-time_start<t:\n",
    "            pass\n",
    "        else:\n",
    "            webbrowser.open(ip)\n",
    "            time_start=time.time()\n",
    "\n",
    "#========================================框住 QR Code===============================\n",
    "\n",
    "    for decodedObject in decodedObjects:\n",
    "        points = decodedObject.polygon\n",
    "\n",
    "        # 如果點不形成四邊形，則找到convext hull\n",
    "        if len(points) > 4:\n",
    "            hull = cv2.convexHull(np.array([point for point in points], dtype=np.float32))\n",
    "            hull = list(map(tuple, np.squeeze(hull)))\n",
    "        else:\n",
    "            hull = points;\n",
    "\n",
    "        # convext hull中的點數\n",
    "        n = len(hull)\n",
    "\n",
    "        # 繪製convext hull\n",
    "        for j in range(0, n):\n",
    "            cv2.line(frame, hull[j], hull[(j + 1) % n], (255, 0, 0), 3)\n",
    "            \n",
    "#==================================================================================    \n",
    "\n",
    "    cv2.imshow(\"Scanning QR Code\", frame) \n",
    "    if cv2.waitKey(1) & 0xFF == ord('q'):               \n",
    "        break\n",
    "        \n",
    "cap.release()                                            \n",
    "cv2.destroyAllWindows()"
   ]
  }
 ],
 "metadata": {
  "kernelspec": {
   "display_name": "Python 3",
   "language": "python",
   "name": "python3"
  },
  "language_info": {
   "codemirror_mode": {
    "name": "ipython",
    "version": 3
   },
   "file_extension": ".py",
   "mimetype": "text/x-python",
   "name": "python",
   "nbconvert_exporter": "python",
   "pygments_lexer": "ipython3",
   "version": "3.6.3"
  }
 },
 "nbformat": 4,
 "nbformat_minor": 2
}
