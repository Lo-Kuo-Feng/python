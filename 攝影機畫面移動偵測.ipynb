{
 "cells": [
  {
   "cell_type": "markdown",
   "metadata": {},
   "source": [
    "[攝影機畫面移動偵測](https://blog.gtwang.org/programming/opencv-motion-detection-and-tracking-tutorial/)"
   ]
  },
  {
   "cell_type": "code",
   "execution_count": 1,
   "metadata": {
    "collapsed": true
   },
   "outputs": [],
   "source": [
    "import cv2\n",
    "import numpy as np\n",
    "\n",
    "# 開啟網路攝影機\n",
    "cap = cv2.VideoCapture(0)\n",
    "\n",
    "# 設定影像尺寸\n",
    "width = 1280\n",
    "height = 960\n",
    "\n",
    "# 設定擷取影像的尺寸大小\n",
    "cap.set(cv2.CAP_PROP_FRAME_WIDTH, width)\n",
    "cap.set(cv2.CAP_PROP_FRAME_HEIGHT, height)\n",
    "\n",
    "# 計算畫面面積\n",
    "area = width * height\n",
    "\n",
    "# 初始化平均影像\n",
    "ret, frame = cap.read()\n",
    "avg = cv2.blur(frame, (4, 4))\n",
    "avg_float = np.float32(avg)\n",
    "\n",
    "while(cap.isOpened()):\n",
    "    # 讀取一幅影格\n",
    "    ret, frame = cap.read()\n",
    "\n",
    "    # 若讀取至影片結尾，則跳出\n",
    "    if ret == False:\n",
    "        break\n",
    "\n",
    "    # 模糊處理\n",
    "    blur = cv2.blur(frame, (4, 4))\n",
    "\n",
    "    # 計算目前影格與平均影像的差異值\n",
    "    diff = cv2.absdiff(avg, blur)\n",
    "\n",
    "    # 將圖片轉為灰階\n",
    "    gray = cv2.cvtColor(diff, cv2.COLOR_BGR2GRAY)\n",
    "\n",
    "    # 篩選出變動程度大於門檻值的區域\n",
    "    ret, thresh = cv2.threshold(gray, 25, 255, cv2.THRESH_BINARY)\n",
    "\n",
    "    # 使用型態轉換函數去除雜訊\n",
    "    kernel = np.ones((5, 5), np.uint8)\n",
    "    thresh = cv2.morphologyEx(thresh, cv2.MORPH_OPEN, kernel, iterations=2)\n",
    "    thresh = cv2.morphologyEx(thresh, cv2.MORPH_CLOSE, kernel, iterations=2)\n",
    "\n",
    "    # 產生等高線\n",
    "    cntImg, cnts, _ = cv2.findContours(thresh.copy(), cv2.RETR_EXTERNAL, cv2.CHAIN_APPROX_SIMPLE)\n",
    "\n",
    "    for c in cnts:\n",
    "        # 忽略太小的區域\n",
    "        if cv2.contourArea(c) < 2500:\n",
    "            continue\n",
    "\n",
    "        # 偵測到物體，可以自己加上處理的程式碼在這裡...\n",
    "\n",
    "        # 計算等高線的外框範圍\n",
    "        (x, y, w, h) = cv2.boundingRect(c)\n",
    "\n",
    "        # 畫出外框\n",
    "        cv2.rectangle(frame, (x, y), (x + w, y + h), (0, 255, 0), 2)\n",
    "\n",
    "    # 畫出等高線（除錯用）\n",
    "    cv2.drawContours(frame, cnts, -1, (0, 255, 255), 2)\n",
    "\n",
    "    # 顯示偵測結果影像\n",
    "    cv2.imshow('frame', frame)\n",
    "\n",
    "    if cv2.waitKey(1) & 0xFF == ord('q'):\n",
    "        break\n",
    "\n",
    "    # 更新平均影像\n",
    "    cv2.accumulateWeighted(blur, avg_float, 0.01)\n",
    "    avg = cv2.convertScaleAbs(avg_float)\n",
    "\n",
    "cap.release()\n",
    "cv2.destroyAllWindows()"
   ]
  },
  {
   "cell_type": "code",
   "execution_count": null,
   "metadata": {
    "collapsed": true
   },
   "outputs": [],
   "source": []
  }
 ],
 "metadata": {
  "kernelspec": {
   "display_name": "Python 3",
   "language": "python",
   "name": "python3"
  },
  "language_info": {
   "codemirror_mode": {
    "name": "ipython",
    "version": 3
   },
   "file_extension": ".py",
   "mimetype": "text/x-python",
   "name": "python",
   "nbconvert_exporter": "python",
   "pygments_lexer": "ipython3",
   "version": "3.6.3"
  }
 },
 "nbformat": 4,
 "nbformat_minor": 2
}
