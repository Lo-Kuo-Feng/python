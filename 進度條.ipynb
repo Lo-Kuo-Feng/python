{
 "cells": [
  {
   "cell_type": "code",
   "execution_count": 1,
   "metadata": {},
   "outputs": [
    {
     "name": "stdout",
     "output_type": "stream",
     "text": [
      "[>>>>>>>>>>>>>>>>>>>>] 100%\r"
     ]
    }
   ],
   "source": [
    "import time\n",
    "\n",
    "s = \">\"\n",
    "t = 1000\n",
    "for i in range(t):   \n",
    "    p = int((i+1)/t*20)\n",
    "    print(\"[\"+(str(s)*p).ljust(20)+\"] \"+str(p*5)+\"%\", end=\"\\r\", flush=True)\n"
   ]
  },
  {
   "cell_type": "code",
   "execution_count": null,
   "metadata": {
    "collapsed": true
   },
   "outputs": [],
   "source": []
  }
 ],
 "metadata": {
  "kernelspec": {
   "display_name": "Python 3",
   "language": "python",
   "name": "python3"
  },
  "language_info": {
   "codemirror_mode": {
    "name": "ipython",
    "version": 3
   },
   "file_extension": ".py",
   "mimetype": "text/x-python",
   "name": "python",
   "nbconvert_exporter": "python",
   "pygments_lexer": "ipython3",
   "version": "3.6.3"
  }
 },
 "nbformat": 4,
 "nbformat_minor": 2
}
