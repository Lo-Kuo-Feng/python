{
 "cells": [
  {
   "cell_type": "code",
   "execution_count": 1,
   "metadata": {
    "scrolled": true
   },
   "outputs": [
    {
     "name": "stdout",
     "output_type": "stream",
     "text": [
      "https://i.gbc.tw/gb_img/s495x660/2855624.jpg\n",
      "https://i.gbc.tw/gb_img/s400x400/2855625.jpg\n",
      "https://i.gbc.tw/gb_img/s495x660/2855626.jpg\n",
      "https://i.gbc.tw/gb_img/s500x500/2855627.jpg\n",
      "https://i.gbc.tw/gb_img/s495x660/2855628.jpg\n",
      "https://i.gbc.tw/gb_img/s660x495/2855629.jpg\n",
      "https://i.gbc.tw/gb_img/s480x640/2855630.jpg\n",
      "https://i.gbc.tw/gb_img/s480x459/2855631.jpg\n",
      "https://i.gbc.tw/gb_img/s495x660/2855632.jpg\n",
      "https://i.gbc.tw/gb_img/s500x500/2855633.jpg\n",
      "https://i.gbc.tw/gb_img/s480x640/2855634.jpg\n",
      "https://i.gbc.tw/gb_img/s500x477/2855635.jpg\n",
      "https://i.gbc.tw/gb_img/4/002/855/2855624s.jpg\n",
      "https://i.gbc.tw/gb_img/5/002/855/2855625s.jpg\n",
      "https://i.gbc.tw/gb_img/6/002/855/2855626s.jpg\n",
      "https://i.gbc.tw/gb_img/7/002/855/2855627s.jpg\n",
      "https://i.gbc.tw/gb_img/8/002/855/2855628s.jpg\n",
      "https://i.gbc.tw/gb_img/9/002/855/2855629s.jpg\n",
      "https://i.gbc.tw/gb_img/0/002/855/2855630s.jpg\n",
      "https://i.gbc.tw/gb_img/1/002/855/2855631s.jpg\n",
      "https://i.gbc.tw/gb_img/2/002/855/2855632s.jpg\n",
      "https://i.gbc.tw/gb_img/3/002/855/2855633s.jpg\n",
      "https://i.gbc.tw/gb_img/4/002/855/2855634s.jpg\n",
      "https://i.gbc.tw/gb_img/5/002/855/2855635s.jpg\n"
     ]
    },
    {
     "name": "stderr",
     "output_type": "stream",
     "text": [
      "C:\\Users\\user\\Anaconda3\\lib\\site-packages\\bs4\\__init__.py:181: UserWarning: No parser was explicitly specified, so I'm using the best available HTML parser for this system (\"lxml\"). This usually isn't a problem, but if you run this code on another system, or in a different virtual environment, it may use a different parser and behave differently.\n",
      "\n",
      "The code that caused this warning is on line 193 of the file C:\\Users\\user\\Anaconda3\\lib\\runpy.py. To get rid of this warning, change code that looks like this:\n",
      "\n",
      " BeautifulSoup(YOUR_MARKUP})\n",
      "\n",
      "to this:\n",
      "\n",
      " BeautifulSoup(YOUR_MARKUP, \"lxml\")\n",
      "\n",
      "  markup_type=markup_type))\n"
     ]
    }
   ],
   "source": [
    "import requests\n",
    "from bs4 import BeautifulSoup\n",
    "res=requests.get('http://www.gamebase.com.tw/forum/64172/topic/96278769/1')\n",
    "soup=BeautifulSoup(res.text)\n",
    "for img in soup.select('.img'):\n",
    "    print(img['src'])"
   ]
  },
  {
   "cell_type": "code",
   "execution_count": 2,
   "metadata": {},
   "outputs": [
    {
     "name": "stderr",
     "output_type": "stream",
     "text": [
      "C:\\Users\\user\\Anaconda3\\lib\\site-packages\\bs4\\__init__.py:181: UserWarning: No parser was explicitly specified, so I'm using the best available HTML parser for this system (\"lxml\"). This usually isn't a problem, but if you run this code on another system, or in a different virtual environment, it may use a different parser and behave differently.\n",
      "\n",
      "The code that caused this warning is on line 193 of the file C:\\Users\\user\\Anaconda3\\lib\\runpy.py. To get rid of this warning, change code that looks like this:\n",
      "\n",
      " BeautifulSoup(YOUR_MARKUP})\n",
      "\n",
      "to this:\n",
      "\n",
      " BeautifulSoup(YOUR_MARKUP, \"lxml\")\n",
      "\n",
      "  markup_type=markup_type))\n"
     ]
    }
   ],
   "source": [
    "import requests\n",
    "from bs4 import BeautifulSoup\n",
    "import shutil\n",
    "res=requests.get('http://www.gamebase.com.tw/forum/64172/topic/96278769/1',verify=False)\n",
    "soup=BeautifulSoup(res.text)\n",
    "for img in soup.select('.img'):\n",
    "    fname=img['src'].split('/')[-1]\n",
    "    res2=requests.get(img['src'],stream=True)\n",
    "    f=open(fname,'wb')\n",
    "    shutil.copyfileobj(res2.raw,f)\n",
    "    f.close()\n",
    "    del res2"
   ]
  }
 ],
 "metadata": {
  "kernelspec": {
   "display_name": "Python 3",
   "language": "python",
   "name": "python3"
  },
  "language_info": {
   "codemirror_mode": {
    "name": "ipython",
    "version": 3
   },
   "file_extension": ".py",
   "mimetype": "text/x-python",
   "name": "python",
   "nbconvert_exporter": "python",
   "pygments_lexer": "ipython3",
   "version": "3.6.3"
  }
 },
 "nbformat": 4,
 "nbformat_minor": 2
}
