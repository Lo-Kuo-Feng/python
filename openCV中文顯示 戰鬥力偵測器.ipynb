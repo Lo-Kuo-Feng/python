{
 "cells": [
  {
   "cell_type": "code",
   "execution_count": 1,
   "metadata": {},
   "outputs": [],
   "source": [
    "import numpy as np\n",
    "import cv2   \n",
    "import dlib\n",
    "import random\n",
    "from PIL import ImageFont, ImageDraw, Image\n",
    "\n",
    "combat_force = 9000\n",
    "\n",
    "font = ImageFont.truetype(r\"C:\\Windows\\Fonts\\kaiu.ttf\", 25)  # C:\\Windows\\Fonts\n",
    "\n",
    "cap = cv2.VideoCapture(0)                        \n",
    "detector = dlib.get_frontal_face_detector()    \n",
    "cv2.namedWindow(\"Combat force detector\", cv2.WINDOW_NORMAL)\n",
    "while(cap.isOpened()):     \n",
    "    ret, frame = cap.read()\n",
    "    frame = cv2.flip(frame,1,dst=None)\n",
    "    face_rects, scores, idx = detector.run(frame, 0)    \n",
    "\n",
    "    for i, d in enumerate(face_rects):                  \n",
    "        x1 = d.left()\n",
    "        y1 = d.top()\n",
    "        x2 = d.right()\n",
    "        y2 = d.bottom()\n",
    "        big_size_x1 = d.left()\n",
    "        big_size_y1 = d.top()\n",
    "        big_size_x2 = d.right()\n",
    "        big_size_y2 = d.bottom()\n",
    "\n",
    "        combat_force += random.randint(-100,100)\n",
    "        text0 = \"戰力數值:\"\n",
    "        \n",
    "#         cv2.rectangle(frame, (big_size_x1, big_size_y1), (big_size_x2, big_size_y2), (190, 139, 75), 4, cv2.LINE_AA)\n",
    "        cv2.putText(frame, str(combat_force), (big_size_x1+110, big_size_y1-40), cv2.FONT_HERSHEY_DUPLEX, 0.7, (190, 139, 75), 1, cv2.LINE_AA)  \n",
    "        cv2.rectangle(frame, (big_size_x1, big_size_y1-5), (big_size_x1+250, big_size_y1-30), (190, 139, 75), 2)\n",
    "        cv2.rectangle(frame, (big_size_x1, big_size_y1-5), (big_size_x1+int(50*((combat_force-9000)/(11000-9000)))+200, big_size_y1-30), (190, 139, 75), -1)\n",
    "        \n",
    "        imgPil = Image.fromarray(frame)\n",
    "        draw = ImageDraw.Draw(imgPil)\n",
    "        draw.text((big_size_x1, big_size_y1-60),  text0, font = font, fill = (190, 139, 75))\n",
    "        frame = np.array(imgPil)\n",
    "        \n",
    "    cv2.imshow(\"Combat force detector\", frame)                  \n",
    "    if cv2.waitKey(1) & 0xFF == ord('q'):                \n",
    "        break\n",
    "\n",
    "cap.release()                                            \n",
    "cv2.destroyAllWindows()                           "
   ]
  },
  {
   "cell_type": "code",
   "execution_count": null,
   "metadata": {
    "collapsed": true
   },
   "outputs": [],
   "source": []
  }
 ],
 "metadata": {
  "kernelspec": {
   "display_name": "Python 3",
   "language": "python",
   "name": "python3"
  },
  "language_info": {
   "codemirror_mode": {
    "name": "ipython",
    "version": 3
   },
   "file_extension": ".py",
   "mimetype": "text/x-python",
   "name": "python",
   "nbconvert_exporter": "python",
   "pygments_lexer": "ipython3",
   "version": "3.6.3"
  }
 },
 "nbformat": 4,
 "nbformat_minor": 2
}
