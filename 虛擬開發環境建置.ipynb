{
 "cells": [
  {
   "cell_type": "markdown",
   "metadata": {},
   "source": [
    "### 建立python27的Anaconda虛擬環境"
   ]
  },
  {
   "cell_type": "markdown",
   "metadata": {},
   "source": [
    "Step1.建立工作目錄\n",
    "\n",
    "md\\python27\n",
    "\n",
    "cd\\python27\n",
    "\n",
    "Step2.建立Anaconda虛擬環境\n",
    "\n",
    "conda create --name python27 python=2.7 anaconda\n",
    "\n",
    "Step3.啟動python27的Anaconda虛擬環境\n",
    "\n",
    "activate python27\n",
    "\n",
    "Step4.關閉python27的Anaconda虛擬環境\n",
    "\n",
    "deactivate python27\n",
    "\n",
    "查詢:conda info --envs\n",
    "\n",
    "刪除:conda remove --name python27 --all"
   ]
  }
 ],
 "metadata": {
  "kernelspec": {
   "display_name": "Python 3",
   "language": "python",
   "name": "python3"
  },
  "language_info": {
   "codemirror_mode": {
    "name": "ipython",
    "version": 3
   },
   "file_extension": ".py",
   "mimetype": "text/x-python",
   "name": "python",
   "nbconvert_exporter": "python",
   "pygments_lexer": "ipython3",
   "version": "3.6.3"
  }
 },
 "nbformat": 4,
 "nbformat_minor": 2
}
