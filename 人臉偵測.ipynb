{
 "cells": [
  {
   "cell_type": "code",
   "execution_count": 3,
   "metadata": {
    "collapsed": true
   },
   "outputs": [],
   "source": [
    "import cv2\n",
    "import dlib\n",
    "\n",
    "# cv2.namedWindow(\"face recognition\", cv2.WINDOW_AUTOSIZE)\n",
    "# cv2.namedWindow(\"face recognition\", cv2.WINDOW_FREERATIO)\n",
    "# cv2.namedWindow(\"face recognition\", cv2.WINDOW_FULLSCREEN)\n",
    "# cv2.namedWindow(\"face recognition\", cv2.WINDOW_GUI_EXPANDED)\n",
    "# cv2.namedWindow(\"face recognition\", cv2.WINDOW_GUI_NORMAL)\n",
    "# cv2.namedWindow(\"face recognition\", cv2.WINDOW_KEEPRATIO)\n",
    "# cv2.namedWindow(\"face recognition\", cv2.WINDOW_NORMAL)\n",
    "# cv2.namedWindow(\"face recognition\", cv2.WINDOW_OPENGL)\n",
    "\n",
    "cv2.namedWindow(\"face recognition\", cv2.WINDOW_NORMAL)\n",
    "detector = dlib.get_frontal_face_detector()\n",
    "cap = cv2.VideoCapture(0)\n",
    "\n",
    "while(cap.isOpened()):\n",
    "    ret, frame = cap.read()\n",
    "    frame = cv2.flip(frame,1,dst=None)\n",
    "    \n",
    "    face_rects, scores, idx = detector.run(frame, 0)\n",
    "    for i, d in enumerate(face_rects):                  \n",
    "        x1 = d.left()\n",
    "        y1 = d.top()\n",
    "        x2 = d.right()\n",
    "        y2 = d.bottom()\n",
    "        text = \"%2.2f(%d)\" % (scores[i], idx[i])\n",
    "        cv2.rectangle(frame, (x1, y1), (x2, y2), (190, 139, 75), 2, cv2.LINE_AA)\n",
    "        cv2.putText(frame, text, (x1, y1-10), cv2.FONT_HERSHEY_DUPLEX, 0.5, (190, 139, 75), 1, cv2.LINE_AA)\n",
    "       \n",
    "    cv2.imshow(\"face recognition\", frame) \n",
    "    if cv2.waitKey(1) & 0xFF == ord('q'):               \n",
    "        break\n",
    "        \n",
    "cap.release()                                            \n",
    "cv2.destroyAllWindows()                                 "
   ]
  },
  {
   "cell_type": "code",
   "execution_count": null,
   "metadata": {
    "collapsed": true
   },
   "outputs": [],
   "source": []
  }
 ],
 "metadata": {
  "kernelspec": {
   "display_name": "Python 3",
   "language": "python",
   "name": "python3"
  },
  "language_info": {
   "codemirror_mode": {
    "name": "ipython",
    "version": 3
   },
   "file_extension": ".py",
   "mimetype": "text/x-python",
   "name": "python",
   "nbconvert_exporter": "python",
   "pygments_lexer": "ipython3",
   "version": "3.6.3"
  }
 },
 "nbformat": 4,
 "nbformat_minor": 2
}
