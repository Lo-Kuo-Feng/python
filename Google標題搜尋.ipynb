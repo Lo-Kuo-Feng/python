{
 "cells": [
  {
   "cell_type": "markdown",
   "metadata": {},
   "source": [
    "# Google搜尋"
   ]
  },
  {
   "cell_type": "code",
   "execution_count": 1,
   "metadata": {},
   "outputs": [
    {
     "name": "stdout",
     "output_type": "stream",
     "text": [
      "Welcome to Python.org\n",
      "Download Python | Python.org\n",
      "Python - 維基百科，自由的百科全書 - Wikipedia\n",
      "一小時Python入門-part 1 - - kopu.chat\n",
      "課程介紹- 成為python數據分析達人的第一課(自學課程) | 政治大學磨 ...\n",
      "Python 入門| Django Girls Taipei\n",
      "Python 台灣使用者群組 - Python Taiwan\n",
      "《經濟學人》專文探討：「為什麼Python 是世上最屌的程式語言 ...\n",
      "「Python」的圖片搜尋結果\n",
      "Python Tutorial - W3Schools\n"
     ]
    },
    {
     "name": "stderr",
     "output_type": "stream",
     "text": [
      "C:\\Users\\user\\Anaconda3\\lib\\site-packages\\bs4\\__init__.py:181: UserWarning: No parser was explicitly specified, so I'm using the best available HTML parser for this system (\"lxml\"). This usually isn't a problem, but if you run this code on another system, or in a different virtual environment, it may use a different parser and behave differently.\n",
      "\n",
      "The code that caused this warning is on line 193 of the file C:\\Users\\user\\Anaconda3\\lib\\runpy.py. To get rid of this warning, change code that looks like this:\n",
      "\n",
      " BeautifulSoup(YOUR_MARKUP})\n",
      "\n",
      "to this:\n",
      "\n",
      " BeautifulSoup(YOUR_MARKUP, \"lxml\")\n",
      "\n",
      "  markup_type=markup_type))\n"
     ]
    }
   ],
   "source": [
    "import requests\n",
    "from bs4 import BeautifulSoup\n",
    "title='Python'\n",
    "res=requests.get('https://www.google.com.tw/search?q='+title+'&oq='+title+'&aqs=chrome..69i57j0l5.10143j0j8&sourceid=chrome&ie=UTF-8')\n",
    "soup=BeautifulSoup(res.text)\n",
    "for img in soup.select('.r'):\n",
    "    print(img.text)"
   ]
  },
  {
   "cell_type": "code",
   "execution_count": null,
   "metadata": {
    "collapsed": true
   },
   "outputs": [],
   "source": []
  }
 ],
 "metadata": {
  "kernelspec": {
   "display_name": "Python 3",
   "language": "python",
   "name": "python3"
  },
  "language_info": {
   "codemirror_mode": {
    "name": "ipython",
    "version": 3
   },
   "file_extension": ".py",
   "mimetype": "text/x-python",
   "name": "python",
   "nbconvert_exporter": "python",
   "pygments_lexer": "ipython3",
   "version": "3.6.3"
  }
 },
 "nbformat": 4,
 "nbformat_minor": 2
}
