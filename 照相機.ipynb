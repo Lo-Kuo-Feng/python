{
 "cells": [
  {
   "cell_type": "code",
   "execution_count": 1,
   "metadata": {},
   "outputs": [
    {
     "name": "stdout",
     "output_type": "stream",
     "text": [
      "拍照成功\n",
      "exit\n"
     ]
    }
   ],
   "source": [
    "import cv2                      # 匯入 cv2 套件\n",
    "\n",
    "capture = cv2.VideoCapture(0)   # 建立攝影機物件\n",
    "if capture.isOpened():          \n",
    "    while True:\n",
    "        sucess, img = capture.read()        # 讀取影像\n",
    "        if sucess:\n",
    "            cv2.imshow('Frame', img)        # 顯示影像\n",
    "        k = cv2.waitKey(100)                # 等待按鍵輸入\n",
    "        if k == ord('s') or k == ord('S'):  # 按下 S(s)\n",
    "            cv2.imwrite('shot.jpg', img)    # 儲存影像\n",
    "            print('拍照成功')   \n",
    "            \n",
    "        if k == ord('q') or k == ord('Q'):  # 按下 Q(q) 結束迴圈\n",
    "            print('exit')\n",
    "            cv2.destroyAllWindows()         # 關閉視窗\n",
    "            capture.release()               # 關閉攝影機\n",
    "            break\n",
    "else:\n",
    "    print('開啟攝影機失敗')"
   ]
  },
  {
   "cell_type": "code",
   "execution_count": null,
   "metadata": {
    "collapsed": true
   },
   "outputs": [],
   "source": []
  }
 ],
 "metadata": {
  "kernelspec": {
   "display_name": "Python 3",
   "language": "python",
   "name": "python3"
  },
  "language_info": {
   "codemirror_mode": {
    "name": "ipython",
    "version": 3
   },
   "file_extension": ".py",
   "mimetype": "text/x-python",
   "name": "python",
   "nbconvert_exporter": "python",
   "pygments_lexer": "ipython3",
   "version": "3.6.3"
  }
 },
 "nbformat": 4,
 "nbformat_minor": 2
}
