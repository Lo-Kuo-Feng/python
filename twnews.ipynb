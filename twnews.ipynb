{
 "cells": [
  {
   "cell_type": "code",
   "execution_count": 1,
   "metadata": {},
   "outputs": [
    {
     "name": "stdout",
     "output_type": "stream",
     "text": [
      "Requirement already satisfied: twnews in c:\\users\\user\\anaconda3\\lib\\site-packages (0.2.4)\n",
      "Requirement already satisfied: beautifulsoup4 in c:\\users\\user\\anaconda3\\lib\\site-packages (from twnews) (4.6.0)\n",
      "Requirement already satisfied: requests in c:\\users\\user\\anaconda3\\lib\\site-packages (from twnews) (2.18.4)\n",
      "Requirement already satisfied: lxml in c:\\users\\user\\anaconda3\\lib\\site-packages (from twnews) (4.1.0)\n",
      "Requirement already satisfied: chardet<3.1.0,>=3.0.2 in c:\\users\\user\\anaconda3\\lib\\site-packages (from requests->twnews) (3.0.4)\n",
      "Requirement already satisfied: idna<2.7,>=2.5 in c:\\users\\user\\anaconda3\\lib\\site-packages (from requests->twnews) (2.6)\n",
      "Requirement already satisfied: urllib3<1.23,>=1.21.1 in c:\\users\\user\\anaconda3\\lib\\site-packages (from requests->twnews) (1.22)\n",
      "Requirement already satisfied: certifi>=2017.4.17 in c:\\users\\user\\anaconda3\\lib\\site-packages (from requests->twnews) (2018.4.16)\n"
     ]
    }
   ],
   "source": [
    "!pip3 install twnews"
   ]
  },
  {
   "cell_type": "code",
   "execution_count": 2,
   "metadata": {},
   "outputs": [
    {
     "name": "stdout",
     "output_type": "stream",
     "text": [
      "頻道: appledaily\n",
      "標題: 男子疑久病厭世　學校圍牆上吊輕生亡\n",
      "日期: 2018-10-25 12:03:00\n",
      "記者: 江宏倫\n",
      "內文:\n",
      "台北市北投區西安街二段，昨晚10時許，1名游姓男子（約80歲）坐在學校圍牆邊上吊輕生，路過民眾驚見嚇得趕緊報案，警消趕抵，時發現輕生男子已經沒有生命跡象，緊急送醫搶救仍宣告不治，警方初步調查排除外力介入，輕生原因仍有待釐清。\n",
      "\n",
      "警消表示，抵達現場時，發現游男坐在某國中圍牆邊上吊輕生，立即將他救下，但已無呼吸心跳，立即進行CPR並送醫搶救，家屬接獲通知趕抵醫院，同意放棄急救。警方調查，年約80多歲的游男，疑似因長期洗腎又患有心臟疾病、糖尿病才會想不開，現場並無打鬥痕跡，初步已排除外力介入，詳細輕生原因仍待調查釐清。（突發中心江宏倫／台北報導）《蘋果》關心你自殺解決不了問題，卻留給家人無比悲痛。請珍惜生命。再給自己一次機會自殺防治諮詢安心專線：0800-788995（24小時） 生命線協談專線：1995 張老師專線：1980出版時間02：07更新時間12：03\n",
      "\n",
      "\n",
      ">>加入蘋果日報粉絲團94即時94狂！\n",
      "有效內容率: 1.35%\n"
     ]
    }
   ],
   "source": [
    "from twnews.soup import NewsSoup\n",
    "\n",
    "nsoup = NewsSoup('https://tw.news.appledaily.com/local/realtime/20181025/1453825')\n",
    "print('頻道: {}'.format(nsoup.channel))\n",
    "print('標題: {}'.format(nsoup.title()))\n",
    "print('日期: {}'.format(nsoup.date()))\n",
    "print('記者: {}'.format(nsoup.author()))\n",
    "print('內文:')\n",
    "print(nsoup.contents())\n",
    "print('有效內容率: {:.2f}%'.format(nsoup.effective_text_rate() * 100))"
   ]
  },
  {
   "cell_type": "code",
   "execution_count": 3,
   "metadata": {},
   "outputs": [
    {
     "name": "stdout",
     "output_type": "stream",
     "text": [
      "頻道: cna\n",
      "標題: 駐美代表投書 九合一選舉證明台灣為民主燈塔\n",
      "日期: 2018-12-03 22:59:00\n",
      "記者: None\n",
      "內文:\n",
      "（中央社記者江今葉華盛頓3日專電）華盛頓郵報今天刊登駐美代表高碩泰投書指出，台灣剛落幕的九合一選舉，表明台灣選民有能力透過選舉，自由、和平表達自我意志，是「民主燈塔」。高碩泰在投書引述美國副總統彭斯（Mike Pence）10月4日於華府智庫的講話，彭斯當時表示：「美國始終相信，台灣對民主的擁抱，為所有華人展示了一條更好的道路。」投書指出，身處一個強大威權鄰國最前線的「民主燈塔」台灣，是眾所周知的偉大政治成功故事之一，正如同美國國務卿蓬佩奧（Mike Pompeo）在台灣大選後的明確訊息中所言：「美國祝賀台灣再次成功舉行自由與公正的選舉，台灣的憲政民主是印太地區的典範。」高碩泰也表示，台灣將與美國等志同道合的貿易與安全夥伴合作，共同分享民主、法治、市場經濟與人權價值觀，台灣會繼續努力確保國際社會更加美好、光明的未來。（編輯：陳永昌）1071203\n",
      "有效內容率: 1.08%\n"
     ]
    }
   ],
   "source": [
    "from twnews.soup import NewsSoup\n",
    "\n",
    "nsoup = NewsSoup('https://www.cna.com.tw/news/aipl/201812030339.aspx')\n",
    "print('頻道: {}'.format(nsoup.channel))\n",
    "print('標題: {}'.format(nsoup.title()))\n",
    "print('日期: {}'.format(nsoup.date()))\n",
    "print('記者: {}'.format(nsoup.author()))\n",
    "print('內文:')\n",
    "print(nsoup.contents())\n",
    "print('有效內容率: {:.2f}%'.format(nsoup.effective_text_rate() * 100))"
   ]
  }
 ],
 "metadata": {
  "kernelspec": {
   "display_name": "Python 3",
   "language": "python",
   "name": "python3"
  },
  "language_info": {
   "codemirror_mode": {
    "name": "ipython",
    "version": 3
   },
   "file_extension": ".py",
   "mimetype": "text/x-python",
   "name": "python",
   "nbconvert_exporter": "python",
   "pygments_lexer": "ipython3",
   "version": "3.6.3"
  }
 },
 "nbformat": 4,
 "nbformat_minor": 2
}
