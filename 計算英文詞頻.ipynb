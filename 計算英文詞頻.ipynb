{
 "cells": [
  {
   "cell_type": "code",
   "execution_count": 1,
   "metadata": {
    "collapsed": true
   },
   "outputs": [],
   "source": [
    "article = '''\n",
    "\n",
    "Beautiful is better than ugly.\n",
    "Explicit is better than implicit.\n",
    "Simple is better than complex.\n",
    "Complex is better than complicated.\n",
    "Flat is better than nested.\n",
    "Sparse is better than dense.\n",
    "Readability counts.\n",
    "Special cases aren't special enough to break the rules.\n",
    "Although practicality beats purity.\n",
    "Errors should never pass silently.\n",
    "Unless explicitly silenced.\n",
    "In the face of ambiguity, refuse the temptation to guess.\n",
    "There should be one-- and preferably only one --obvious way to do it.\n",
    "Although that way may not be obvious at first unless you're Dutch.\n",
    "Now is better than never.\n",
    "Although never is often better than *right* now.\n",
    "If the implementation is hard to explain, it's a bad idea.\n",
    "If the implementation is easy to explain, it may be a good idea.\n",
    "Namespaces are one honking great idea -- let's do more of those!\n",
    "'''"
   ]
  },
  {
   "cell_type": "code",
   "execution_count": 2,
   "metadata": {},
   "outputs": [
    {
     "data": {
      "text/plain": [
       "[('is', 10),\n",
       " ('better', 8),\n",
       " ('than', 8),\n",
       " ('to', 5),\n",
       " ('the', 5),\n",
       " ('although', 3),\n",
       " ('be', 3),\n",
       " ('special', 2),\n",
       " ('should', 2),\n",
       " ('never', 2)]"
      ]
     },
     "execution_count": 2,
     "metadata": {},
     "output_type": "execute_result"
    }
   ],
   "source": [
    "from collections import Counter\n",
    "c = Counter(article.lower().split())\n",
    "c.most_common(10)  # 出現頻率前10名"
   ]
  },
  {
   "cell_type": "code",
   "execution_count": 3,
   "metadata": {},
   "outputs": [
    {
     "data": {
      "text/plain": [
       "Counter({'*right*': 1,\n",
       "         '--': 1,\n",
       "         '--obvious': 1,\n",
       "         'a': 2,\n",
       "         'although': 3,\n",
       "         'ambiguity,': 1,\n",
       "         'and': 1,\n",
       "         'are': 1,\n",
       "         \"aren't\": 1,\n",
       "         'at': 1,\n",
       "         'bad': 1,\n",
       "         'be': 3,\n",
       "         'beats': 1,\n",
       "         'beautiful': 1,\n",
       "         'better': 8,\n",
       "         'break': 1,\n",
       "         'cases': 1,\n",
       "         'complex': 1,\n",
       "         'complex.': 1,\n",
       "         'complicated.': 1,\n",
       "         'counts.': 1,\n",
       "         'dense.': 1,\n",
       "         'do': 2,\n",
       "         'dutch.': 1,\n",
       "         'easy': 1,\n",
       "         'enough': 1,\n",
       "         'errors': 1,\n",
       "         'explain,': 2,\n",
       "         'explicit': 1,\n",
       "         'explicitly': 1,\n",
       "         'face': 1,\n",
       "         'first': 1,\n",
       "         'flat': 1,\n",
       "         'good': 1,\n",
       "         'great': 1,\n",
       "         'guess.': 1,\n",
       "         'hard': 1,\n",
       "         'honking': 1,\n",
       "         'idea': 1,\n",
       "         'idea.': 2,\n",
       "         'if': 2,\n",
       "         'implementation': 2,\n",
       "         'implicit.': 1,\n",
       "         'in': 1,\n",
       "         'is': 10,\n",
       "         'it': 1,\n",
       "         \"it's\": 1,\n",
       "         'it.': 1,\n",
       "         \"let's\": 1,\n",
       "         'may': 2,\n",
       "         'more': 1,\n",
       "         'namespaces': 1,\n",
       "         'nested.': 1,\n",
       "         'never': 2,\n",
       "         'never.': 1,\n",
       "         'not': 1,\n",
       "         'now': 1,\n",
       "         'now.': 1,\n",
       "         'obvious': 1,\n",
       "         'of': 2,\n",
       "         'often': 1,\n",
       "         'one': 2,\n",
       "         'one--': 1,\n",
       "         'only': 1,\n",
       "         'pass': 1,\n",
       "         'practicality': 1,\n",
       "         'preferably': 1,\n",
       "         'purity.': 1,\n",
       "         'readability': 1,\n",
       "         'refuse': 1,\n",
       "         'rules.': 1,\n",
       "         'should': 2,\n",
       "         'silenced.': 1,\n",
       "         'silently.': 1,\n",
       "         'simple': 1,\n",
       "         'sparse': 1,\n",
       "         'special': 2,\n",
       "         'temptation': 1,\n",
       "         'than': 8,\n",
       "         'that': 1,\n",
       "         'the': 5,\n",
       "         'there': 1,\n",
       "         'those!': 1,\n",
       "         'to': 5,\n",
       "         'ugly.': 1,\n",
       "         'unless': 2,\n",
       "         'way': 2,\n",
       "         \"you're\": 1})"
      ]
     },
     "execution_count": 3,
     "metadata": {},
     "output_type": "execute_result"
    }
   ],
   "source": [
    "c"
   ]
  },
  {
   "cell_type": "code",
   "execution_count": null,
   "metadata": {
    "collapsed": true
   },
   "outputs": [],
   "source": []
  }
 ],
 "metadata": {
  "kernelspec": {
   "display_name": "Python 3",
   "language": "python",
   "name": "python3"
  },
  "language_info": {
   "codemirror_mode": {
    "name": "ipython",
    "version": 3
   },
   "file_extension": ".py",
   "mimetype": "text/x-python",
   "name": "python",
   "nbconvert_exporter": "python",
   "pygments_lexer": "ipython3",
   "version": "3.6.3"
  }
 },
 "nbformat": 4,
 "nbformat_minor": 2
}
