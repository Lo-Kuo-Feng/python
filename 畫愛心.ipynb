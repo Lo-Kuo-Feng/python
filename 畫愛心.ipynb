{
 "cells": [
  {
   "cell_type": "code",
   "execution_count": 1,
   "metadata": {},
   "outputs": [
    {
     "name": "stdout",
     "output_type": "stream",
     "text": [
      "                                                            \n",
      "                                                            \n",
      "                                                            \n",
      "                ve youI l           ve youI l               \n",
      "             love youI love y    love youI love y           \n",
      "          I love youI love youI love youI love youI         \n",
      "         I love youI love youI love youI love youI l        \n",
      "        I love youI love youI love youI love youI lov       \n",
      "         love youI love youI love youI love youI love       \n",
      "        love youI love youI love youI love youI love        \n",
      "        ove youI love youI love youI love youI love y       \n",
      "        ve youI love youI love youI love youI love yo       \n",
      "        e youI love youI love youI love youI love you       \n",
      "         youI love youI love youI love youI love you        \n",
      "          uI love youI love youI love youI love you         \n",
      "          I love youI love youI love youI love youI         \n",
      "            ove youI love youI love youI love you           \n",
      "             e youI love youI love youI love you            \n",
      "              youI love youI love youI love you             \n",
      "                I love youI love youI love yo               \n",
      "                  ove youI love youI love y                 \n",
      "                     youI love youI love                    \n",
      "                       I love youI lov                      \n",
      "                          ve youI l                         \n",
      "                             ouI                            \n",
      "                              I                             \n",
      "                                                            \n",
      "                                                            \n",
      "                                                            \n",
      "                                                            \n"
     ]
    }
   ],
   "source": [
    "print('\\n'.join([''.join([('I love you'[(x-y)%10]if((x*0.05)**2+(y*0.1)**2-1)**3-(x*0.05)**2*(y*0.1)**3<=0 else' ')for x in range(-30,30)])for y in range(15,-15,-1)]))"
   ]
  },
  {
   "cell_type": "code",
   "execution_count": null,
   "metadata": {
    "collapsed": true
   },
   "outputs": [],
   "source": []
  }
 ],
 "metadata": {
  "kernelspec": {
   "display_name": "Python 3",
   "language": "python",
   "name": "python3"
  },
  "language_info": {
   "codemirror_mode": {
    "name": "ipython",
    "version": 3
   },
   "file_extension": ".py",
   "mimetype": "text/x-python",
   "name": "python",
   "nbconvert_exporter": "python",
   "pygments_lexer": "ipython3",
   "version": "3.6.3"
  }
 },
 "nbformat": 4,
 "nbformat_minor": 2
}
